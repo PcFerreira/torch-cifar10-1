{
 "cells": [
  {
   "cell_type": "code",
   "execution_count": null,
   "id": "c0a7db6d-8f5e-4574-8afa-472606c68911",
   "metadata": {},
   "outputs": [],
   "source": [
    "from PIL import Image\n",
    "import torchvision.transforms as transforms\n",
    "import torch\n",
    "import torch.nn.functional as F\n",
    "import matplotlib.pyplot as plt\n",
    "import numpy as np\n",
    "\n",
    "image_test = '<PATH>'\n",
    "\n",
    "class Net(nn.Module):\n",
    "    def __init__(self):\n",
    "        super().__init__()\n",
    "        self.conv1 = nn.Conv2d(3, 21, 5)\n",
    "        self.pool = nn.MaxPool2d(2, 2)\n",
    "        self.conv2 = nn.Conv2d(21, 16, 5)\n",
    "        #self.fc1 = nn.Linear(16 * 5 * 5, 120)\n",
    "        self.fc1 = nn.Linear(16 * 53 * 53, 120)\n",
    "        self.fc2 = nn.Linear(120, 84)\n",
    "        self.fc3 = nn.Linear(84, 2)\n",
    "        \n",
    "    def forward(self, x):\n",
    "        x = self.pool(F.relu(self.conv1(x)))\n",
    "        x = self.pool(F.relu(self.conv2(x)))\n",
    "        x = torch.flatten(x, 1) # flatten all dimensions except batch\n",
    "        x = F.relu(self.fc1(x))\n",
    "        x = F.relu(self.fc2(x))\n",
    "        x = self.fc3(x)\n",
    "        return x\n",
    "\n",
    "classes = ('plane', 'car', 'bird', 'cat',\n",
    "           'deer', 'dog', 'frog', 'horse', 'ship', 'truck', 'melanoma')\n",
    "\n",
    "image = Image.open(image_test).convert('RGB')\n",
    "PATH = './cifar_net.pth'\n",
    "\n",
    "transform = transforms.Compose([\n",
    "    transforms.Resize((32, 32)),  # Adjust to your network's input size\n",
    "    transforms.ToTensor(),\n",
    "    transforms.Normalize((0.5, 0.5, 0.5), (0.5, 0.5, 0.5))  # Adjust normalization parameters as used in training\n",
    "])\n",
    "\n",
    "def imshow(img):\n",
    "    img = img / 2 + 0.5     # unnormalize\n",
    "    npimg = img.numpy()\n",
    "    plt.imshow(np.transpose(npimg, (1, 2, 0)))\n",
    "    plt.show()\n",
    "\n",
    "# Preprocess the image\n",
    "input_image = transform(image)\n",
    "input_image = input_image.unsqueeze(0)  # Add batch dimension\n",
    "\n",
    "# Load your trained model\n",
    "net = Net()\n",
    "net.load_state_dict(torch.load(PATH))\n",
    "net.eval()  # Set to evaluation mode\n",
    "\n",
    "# Run the image through the network and apply softmax\n",
    "with torch.no_grad():\n",
    "    output = net(input_image)\n",
    "    probabilities = F.softmax(output, dim=1)[0]  # Apply softmax and get first (and only) item\n",
    "\n",
    "# Display the scores for each class\n",
    "for i, class_name in enumerate(classes):\n",
    "    print(f\"{class_name}: {probabilities[i].item():.6f}\")"
   ]
  },
  {
   "cell_type": "code",
   "execution_count": null,
   "id": "76c3726a-4518-4d97-a5b4-ad4a7a2e1c0b",
   "metadata": {},
   "outputs": [],
   "source": [
    "#plot the image\n",
    "imshow(input_image[0]) "
   ]
  }
 ],
 "metadata": {
  "kernelspec": {
   "display_name": "Python 3 (ipykernel)",
   "language": "python",
   "name": "python3"
  },
  "language_info": {
   "codemirror_mode": {
    "name": "ipython",
    "version": 3
   },
   "file_extension": ".py",
   "mimetype": "text/x-python",
   "name": "python",
   "nbconvert_exporter": "python",
   "pygments_lexer": "ipython3",
   "version": "3.11.4"
  }
 },
 "nbformat": 4,
 "nbformat_minor": 5
}
